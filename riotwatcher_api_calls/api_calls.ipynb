{
 "cells": [
  {
   "cell_type": "code",
   "execution_count": 16,
   "metadata": {},
   "outputs": [],
   "source": [
    "from dotenv import dotenv_values\n",
    "config = dotenv_values(\"../.env\")\n",
    "\n",
    "import os\n",
    "import pandas as pd\n",
    "from datetime import datetime\n",
    "import time\n",
    "\n",
    "from riotwatcher import LolWatcher, ApiError\n",
    "\n",
    "\"\"\" \n",
    "API Rate Limits:\n",
    "20 requests every 1 seconds(s)\n",
    "100 requests every 2 minutes(s)\n",
    "\"\"\"\n",
    "\n",
    "watcher = LolWatcher(config['riotwatcher_api_key'])"
   ]
  },
  {
   "cell_type": "code",
   "execution_count": 17,
   "metadata": {},
   "outputs": [
    {
     "name": "stdout",
     "output_type": "stream",
     "text": [
      "Execution time: 2.568451404571533 s\n",
      "Number of API calls: 4\n",
      "API calls per second: 1.56\n"
     ]
    }
   ],
   "source": [
    "# record start time\n",
    "start_timer = time.time()\n",
    "\n",
    "\"\"\" user-defined variables \"\"\"\n",
    "var_region = \"euw1\"\n",
    "var_summoner_name= \"AdAstraData\"\n",
    "\n",
    "\"\"\" fetch item_list from data_dragon and create dict with item_id : item_name \"\"\"\n",
    "data_dragon_versions = watcher.data_dragon.versions_for_region(region=var_region)\n",
    "data_dragon_item_version = data_dragon_versions['n']['item']\n",
    "\n",
    "item_list = watcher.data_dragon.items(data_dragon_item_version)\n",
    "\n",
    "dict_item_id_item_name = {}\n",
    "\n",
    "for item_id in item_list['data'].keys():\n",
    "    df_item_id = pd.json_normalize(data=item_list['data'][item_id])\n",
    "    item_name = df_item_id['name'].to_string(index=False)\n",
    "    dict_item_id_item_name[item_id] = item_name\n",
    "\n",
    "\"\"\" store summoner ids \"\"\"\n",
    "summoner_puuid = watcher.summoner.by_name(region=var_region, summoner_name=var_summoner_name)\n",
    "my_puuid = summoner_puuid['puuid']\n",
    "\n",
    "\"\"\" find all matches played by puuid \"\"\"\n",
    "last_matches_puuid = watcher.match.matchlist_by_puuid(\n",
    "    region=var_region, \n",
    "    puuid=my_puuid, \n",
    "    count=100\n",
    "    )\n",
    "\n",
    "# record end time\n",
    "end_timer = time.time()\n",
    "\n",
    "# number of API calls\n",
    "num_api_calls = 4\n",
    "\n",
    "print(\"Execution time:\",(end_timer-start_timer), \"s\")\n",
    "print(\"Number of API calls:\",num_api_calls)\n",
    "print(\"API calls per second:\",round(num_api_calls/(end_timer-start_timer),2))"
   ]
  },
  {
   "cell_type": "code",
   "execution_count": 27,
   "metadata": {},
   "outputs": [],
   "source": [
    "# import sqlite3\n",
    "# from sqlalchemy import create_engine\n",
    "\n",
    "# engine = create_engine('sqlite:///sqlite_test.db', echo=False)\n",
    "\n",
    "# df = pd.DataFrame([[1,52],[1,2342]], columns=['a', 'b'])\n",
    "# print(df)\n",
    "\n",
    "# df.to_sql('mytable', con=engine, if_exists='append')\n",
    "\n",
    "# df = pd.read_sql_query(\"SELECT * from mytable\", con=engine)\n",
    "# df"
   ]
  },
  {
   "cell_type": "code",
   "execution_count": 7,
   "metadata": {},
   "outputs": [
    {
     "data": {
      "text/plain": [
       "100"
      ]
     },
     "execution_count": 7,
     "metadata": {},
     "output_type": "execute_result"
    }
   ],
   "source": [
    "\"\"\" list of match_id for all matches played by summoner\"\"\"\n",
    "len(last_matches_puuid)"
   ]
  },
  {
   "cell_type": "code",
   "execution_count": 4,
   "metadata": {},
   "outputs": [
    {
     "name": "stdout",
     "output_type": "stream",
     "text": [
      "Execution time: 14.254740476608276 s\n",
      "Number of API calls: 100\n",
      "API calls per second: 7.02\n"
     ]
    }
   ],
   "source": [
    "# record start time\n",
    "start_timer = time.time()\n",
    "\n",
    "list_match_item_purchased = []\n",
    "\n",
    "\"\"\" for each match_id \"\"\"\n",
    "for var_match_id in last_matches_puuid[0:26]:\n",
    "\n",
    "    \"\"\" store participant's puuids \"\"\"\n",
    "    dict_participants_puuids = {}\n",
    "\n",
    "    match_participants = watcher.match.by_id(region=var_region, match_id=var_match_id)\n",
    "    list_match_participants = match_participants['metadata']['participants']\n",
    "    \n",
    "    for idx in range(len(list_match_participants)):\n",
    "        participant_id = idx + 1\n",
    "        dict_participants_puuids[str(participant_id)] = list_match_participants[idx]\n",
    "\n",
    "    \"\"\" fetch match_timeline \"\"\"\n",
    "    match_info = watcher.match.timeline_by_match(region=var_region,match_id=var_match_id)\n",
    "    match_timeline = pd.json_normalize(data=match_info['info']['frames'], record_path='events')\n",
    "\n",
    "    \"\"\" add match_id to match_timeline\"\"\"\n",
    "    match_timeline['match_id'] = var_match_id\n",
    "\n",
    "    \"\"\" convert match_timeline' timestamp to elapsed minutes\"\"\"\n",
    "    match_timeline['timestamp_timedelta'] = pd.to_timedelta(match_timeline['timestamp'], unit='ms')\n",
    "    match_timeline['elapsed_minutes'] = round(match_timeline['timestamp_timedelta']/ pd.Timedelta(minutes=1),3)\n",
    "    \n",
    "    \"\"\" subset for item_purchased \"\"\"\n",
    "    item_purchased = match_timeline.query(\"type == 'ITEM_PURCHASED'\").dropna(axis=1)\n",
    "\n",
    "    \"\"\" retrieve item_name \"\"\"\n",
    "    item_purchased['item_id'] = item_purchased['itemId'].astype(int)\n",
    "    item_purchased['item_name'] = [dict_item_id_item_name[str(item)] for item in item_purchased['item_id']]\n",
    "\n",
    "    \"\"\" retrieve summoner_puuid \"\"\"\n",
    "    item_purchased['participant_id'] = item_purchased['participantId'].astype(int)\n",
    "    item_purchased['summoner_puuid'] = [dict_participants_puuids[str(id)] for id in item_purchased['participant_id']]\n",
    "\n",
    "    \"\"\" subset for @my_puuid \"\"\"\n",
    "    item_purchased = item_purchased.query(\"summoner_puuid == @my_puuid\")\n",
    "\n",
    "    \"\"\" select cols - elapsed_minutes, item_name, summoner_puuid \"\"\"\n",
    "    item_purchased = item_purchased[\n",
    "        [\n",
    "            'match_id', \n",
    "            'elapsed_minutes',\n",
    "            'item_name',\n",
    "            'summoner_puuid'\n",
    "        ]\n",
    "    ]\n",
    "    \n",
    "    \"\"\" create dict with item_purchased per timestamp per participant (summoner) \"\"\"\n",
    "    dict_item_purchased = item_purchased.to_dict(orient='records')\n",
    "    list_match_item_purchased.append(dict_item_purchased)\n",
    "\n",
    "# record end time\n",
    "end_timer = time.time()\n",
    "\n",
    "# number of API calls\n",
    "num_api_calls_per_cycle = 1\n",
    "num_api_cycles = len(last_matches_puuid)\n",
    "num_api_calls = num_api_cycles * num_api_calls_per_cycle\n",
    "\n",
    "print(\"Execution time:\",(end_timer-start_timer), \"s\")\n",
    "print(\"Number of API calls:\",num_api_calls)\n",
    "print(\"API calls per second:\",round(num_api_calls/(end_timer-start_timer),2))"
   ]
  },
  {
   "cell_type": "code",
   "execution_count": 5,
   "metadata": {},
   "outputs": [
    {
     "data": {
      "text/plain": [
       "count    24.000000\n",
       "mean      0.259708\n",
       "std       0.146596\n",
       "min       0.097000\n",
       "25%       0.155500\n",
       "50%       0.209000\n",
       "75%       0.322000\n",
       "max       0.614000\n",
       "Name: elapsed_minutes, dtype: float64"
      ]
     },
     "execution_count": 5,
     "metadata": {},
     "output_type": "execute_result"
    }
   ],
   "source": [
    "\"\"\" obtain avg. elapsed_minutes per item_name (last matches)\"\"\"\n",
    "from itertools import chain\n",
    "\n",
    "df_match_item_purchased = pd.DataFrame(list(chain.from_iterable(list_match_item_purchased)))\n",
    "\n",
    "avg_min_Dorans_Ring = df_match_item_purchased.query('item_name == \"Doran\\'s Ring\"')['elapsed_minutes'].describe()\n",
    "avg_min_Dorans_Ring"
   ]
  },
  {
   "cell_type": "code",
   "execution_count": null,
   "metadata": {},
   "outputs": [],
   "source": [
    "### ACTION_ITEMS : \n",
    "# 1. need to test first for API call before proceeding (hitting the API's rate limits as it is) \n",
    "# 2. need to add order_num to item_name to distinguish between similar item_names bought at different timestamps\n",
    "# 3. .describe() to be applied per item_name_order_num "
   ]
  }
 ],
 "metadata": {
  "kernelspec": {
   "display_name": "Python 3.8.5 64-bit",
   "language": "python",
   "name": "python3"
  },
  "language_info": {
   "codemirror_mode": {
    "name": "ipython",
    "version": 3
   },
   "file_extension": ".py",
   "mimetype": "text/x-python",
   "name": "python",
   "nbconvert_exporter": "python",
   "pygments_lexer": "ipython3",
   "version": "3.8.5"
  },
  "orig_nbformat": 4,
  "vscode": {
   "interpreter": {
    "hash": "49ac6e22b3157e0835130cb4fd272adb8e9bf4cfbfbb5cb2ce1c9c50fe277a7a"
   }
  }
 },
 "nbformat": 4,
 "nbformat_minor": 2
}
