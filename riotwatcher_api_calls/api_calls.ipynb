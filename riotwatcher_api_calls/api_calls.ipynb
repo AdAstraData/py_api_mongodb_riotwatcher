{
 "cells": [
  {
   "cell_type": "code",
   "execution_count": 59,
   "metadata": {},
   "outputs": [],
   "source": [
    "from dotenv import dotenv_values\n",
    "config = dotenv_values(\"../.env\")\n",
    "\n",
    "import os\n",
    "import pandas as pd\n",
    "from datetime import datetime\n",
    "import time\n",
    "\n",
    "from riotwatcher import LolWatcher, ApiError\n",
    "\n",
    "\"\"\" \n",
    "API Rate Limits:\n",
    "20 requests every 1 seconds(s)\n",
    "100 requests every 2 minutes(s)\n",
    "\"\"\"\n",
    "\n",
    "watcher = LolWatcher(config['riotwatcher_api_key'])"
   ]
  },
  {
   "cell_type": "code",
   "execution_count": 60,
   "metadata": {},
   "outputs": [
    {
     "name": "stdout",
     "output_type": "stream",
     "text": [
      "Execution time: 1.4801628589630127 s\n",
      "Number of API calls: 4\n",
      "API calls per second: 2.7\n"
     ]
    }
   ],
   "source": [
    "# record start time\n",
    "start_timer = time.time()\n",
    "\n",
    "\"\"\" user-defined variables \"\"\"\n",
    "var_region = \"euw1\"\n",
    "var_summoner_name= \"AdAstraData\"\n",
    "\n",
    "\"\"\" fetch item_list from data_dragon and create dict with item_id : item_name \"\"\"\n",
    "data_dragon_versions = watcher.data_dragon.versions_for_region(region=var_region)\n",
    "data_dragon_item_version = data_dragon_versions['n']['item']\n",
    "\n",
    "item_list = watcher.data_dragon.items(data_dragon_item_version)\n",
    "\n",
    "dict_item_id_item_name = {}\n",
    "\n",
    "for item_id in item_list['data'].keys():\n",
    "    df_item_id = pd.json_normalize(data=item_list['data'][item_id])\n",
    "    item_name = df_item_id['name'].to_string(index=False)\n",
    "    dict_item_id_item_name[item_id] = item_name\n",
    "\n",
    "\"\"\" store summoner ids \"\"\"\n",
    "summoner_puuid = watcher.summoner.by_name(region=var_region, summoner_name=var_summoner_name)\n",
    "my_puuid = summoner_puuid['puuid']\n",
    "\n",
    "\"\"\" find all matches played by puuid \"\"\"\n",
    "last_matches_puuid = watcher.match.matchlist_by_puuid(\n",
    "    region=var_region, \n",
    "    puuid=my_puuid, \n",
    "    count=100\n",
    "    )\n",
    "\n",
    "# record end time\n",
    "end_timer = time.time()\n",
    "\n",
    "# number of API calls\n",
    "num_api_calls = 4\n",
    "\n",
    "print(\"Execution time:\",(end_timer-start_timer), \"s\")\n",
    "print(\"Number of API calls:\",num_api_calls)\n",
    "print(\"API calls per second:\",round(num_api_calls/(end_timer-start_timer),2))"
   ]
  },
  {
   "cell_type": "code",
   "execution_count": 61,
   "metadata": {},
   "outputs": [
    {
     "data": {
      "text/plain": [
       "100"
      ]
     },
     "execution_count": 61,
     "metadata": {},
     "output_type": "execute_result"
    }
   ],
   "source": [
    "\"\"\" list of match_id for all matches played by summoner\"\"\"\n",
    "len(last_matches_puuid)"
   ]
  },
  {
   "cell_type": "code",
   "execution_count": 62,
   "metadata": {},
   "outputs": [],
   "source": [
    "dict_match_info = {\n",
    "    \"match_id\": [],\n",
    "    \"team_id\": [],\n",
    "    \"participant_puuid\": [],\n",
    "    \"summoner_name\": [],\n",
    "    \"gold_earned\": [],\n",
    "}\n",
    "\n",
    "\"\"\" for each match_id \"\"\"\n",
    "for var_match_id in last_matches_puuid[0:100]:\n",
    "\n",
    "    \"\"\" GET summoner puuids \"\"\"\n",
    "    watcher_match = watcher.match.by_id(region=var_region, match_id=var_match_id)\n",
    "\n",
    "    for puuid_num in range(len(watcher_match['metadata']['participants'])):\n",
    "        puuid_features = watcher_match['info']['participants'][puuid_num]\n",
    "\n",
    "        dict_match_info['match_id'].append(var_match_id)\n",
    "        dict_match_info['team_id'].append(puuid_features['teamId'])\n",
    "        dict_match_info['participant_puuid'].append(puuid_features['puuid'])\n",
    "        dict_match_info['summoner_name'].append(puuid_features['summonerName'])\n",
    "        dict_match_info['gold_earned'].append(puuid_features['goldEarned'])\n",
    "    \n",
    "    \"\"\" time delay with time.sleep \"\"\"\n",
    "    time.sleep(1)\n"
   ]
  },
  {
   "cell_type": "code",
   "execution_count": 63,
   "metadata": {},
   "outputs": [
    {
     "data": {
      "text/plain": [
       "853"
      ]
     },
     "execution_count": 63,
     "metadata": {},
     "output_type": "execute_result"
    }
   ],
   "source": [
    "df_match_info = pd.DataFrame.from_dict(dict_match_info)\n",
    "df_match_info['team_id'] = ['Blue' if team_id == 100 else 'Red' for team_id in df_match_info['team_id']]\n",
    "df_match_info\n",
    "\n",
    "list_all_match_participants = df_match_info['summoner_name'].unique()\n",
    "len(list_all_match_participants)"
   ]
  },
  {
   "cell_type": "code",
   "execution_count": 64,
   "metadata": {},
   "outputs": [
    {
     "data": {
      "text/plain": [
       "853"
      ]
     },
     "execution_count": 64,
     "metadata": {},
     "output_type": "execute_result"
    }
   ],
   "source": [
    "len(list_all_match_participants)"
   ]
  },
  {
   "cell_type": "code",
   "execution_count": 70,
   "metadata": {},
   "outputs": [
    {
     "data": {
      "text/plain": [
       "array(['Alecostry22'], dtype=object)"
      ]
     },
     "execution_count": 70,
     "metadata": {},
     "output_type": "execute_result"
    }
   ],
   "source": [
    "list_all_match_participants[25:26]"
   ]
  },
  {
   "cell_type": "code",
   "execution_count": 77,
   "metadata": {},
   "outputs": [],
   "source": [
    "\"\"\" user-defined variables \"\"\"\n",
    "var_region = \"euw1\"\n",
    "# var_summoner_name= \"AdAstraData\"\n",
    "\n",
    "dict_match_info = {\n",
    "    \"match_id\": [],\n",
    "    \"team_id\": [],\n",
    "    \"participant_puuid\": [],\n",
    "    \"summoner_name\": [],\n",
    "    \"gold_earned\": [],\n",
    "}\n",
    "\n",
    "for var_participant_name in list_all_match_participants[27:30]:\n",
    "    \n",
    "    \"\"\" GET participant puuid \"\"\"\n",
    "    summoner_puuid = watcher.summoner.by_name(region=var_region, summoner_name=var_participant_name)\n",
    "    var_participant_puuid = summoner_puuid['puuid']\n",
    "    \n",
    "    \"\"\" GET last 100 matches played by puuid \"\"\"\n",
    "    last_matches_puuid = watcher.match.matchlist_by_puuid(\n",
    "        region=var_region, \n",
    "        puuid=var_participant_puuid, \n",
    "        count=100\n",
    "    )\n",
    "\n",
    "    \"\"\" time delay with time.sleep \"\"\"\n",
    "    time.sleep(1)\n",
    "\n",
    "    \"\"\" for each match_id \"\"\"\n",
    "    for var_match_id in last_matches_puuid[0:100]:\n",
    "        \n",
    "        \"\"\" GET summoner puuids \"\"\"\n",
    "        watcher_match = watcher.match.by_id(region=var_region, match_id=var_match_id)\n",
    "        \n",
    "        for puuid_num in range(len(watcher_match['metadata']['participants'])):\n",
    "            puuid_features = watcher_match['info']['participants'][puuid_num]\n",
    "            \n",
    "            dict_match_info['match_id'].append(var_match_id)\n",
    "            dict_match_info['team_id'].append(puuid_features['teamId'])\n",
    "            dict_match_info['participant_puuid'].append(puuid_features['puuid'])\n",
    "            dict_match_info['summoner_name'].append(puuid_features['summonerName'])\n",
    "            dict_match_info['gold_earned'].append(puuid_features['goldEarned'])\n",
    "\n",
    "        \"\"\" time delay with time.sleep \"\"\"\n",
    "        time.sleep(1)\n",
    "\n",
    "\n",
    "# EUW1_5021326873\n"
   ]
  },
  {
   "cell_type": "code",
   "execution_count": 79,
   "metadata": {},
   "outputs": [
    {
     "data": {
      "text/html": [
       "<div>\n",
       "<style scoped>\n",
       "    .dataframe tbody tr th:only-of-type {\n",
       "        vertical-align: middle;\n",
       "    }\n",
       "\n",
       "    .dataframe tbody tr th {\n",
       "        vertical-align: top;\n",
       "    }\n",
       "\n",
       "    .dataframe thead th {\n",
       "        text-align: right;\n",
       "    }\n",
       "</style>\n",
       "<table border=\"1\" class=\"dataframe\">\n",
       "  <thead>\n",
       "    <tr style=\"text-align: right;\">\n",
       "      <th></th>\n",
       "      <th>match_id</th>\n",
       "      <th>team_id</th>\n",
       "      <th>participant_puuid</th>\n",
       "      <th>summoner_name</th>\n",
       "      <th>gold_earned</th>\n",
       "    </tr>\n",
       "  </thead>\n",
       "  <tbody>\n",
       "    <tr>\n",
       "      <th>0</th>\n",
       "      <td>EUW1_6161945478</td>\n",
       "      <td>Blue</td>\n",
       "      <td>A2zEx9varFrcDbkKlqdGuD0dr5dCO0pcB4MRqH6N6Qha6J...</td>\n",
       "      <td>poutmasmurf</td>\n",
       "      <td>6898</td>\n",
       "    </tr>\n",
       "    <tr>\n",
       "      <th>1</th>\n",
       "      <td>EUW1_6161945478</td>\n",
       "      <td>Blue</td>\n",
       "      <td>MEVanfuJg9PZqtZbaJPB2JbkU9gbb83q9wDJobu06PXpnf...</td>\n",
       "      <td>FriiZoK7</td>\n",
       "      <td>9587</td>\n",
       "    </tr>\n",
       "    <tr>\n",
       "      <th>2</th>\n",
       "      <td>EUW1_6161945478</td>\n",
       "      <td>Blue</td>\n",
       "      <td>h3C486P2TXijAzf80wqo8wuscyhoo1Qypzd1pvu0JEYb6a...</td>\n",
       "      <td>haus300</td>\n",
       "      <td>8852</td>\n",
       "    </tr>\n",
       "    <tr>\n",
       "      <th>3</th>\n",
       "      <td>EUW1_6161945478</td>\n",
       "      <td>Blue</td>\n",
       "      <td>me53WpNeg3rqK2j0xb30wxMWFQ37MMZdF1RzPvSi38SR1j...</td>\n",
       "      <td>godbutbackwards</td>\n",
       "      <td>6209</td>\n",
       "    </tr>\n",
       "    <tr>\n",
       "      <th>4</th>\n",
       "      <td>EUW1_6161945478</td>\n",
       "      <td>Blue</td>\n",
       "      <td>Jl4DjLQgMwQK-9xga9-ddMeEgsq5NGUFy_Gy9O-SQkHQhW...</td>\n",
       "      <td>davidjimi</td>\n",
       "      <td>5610</td>\n",
       "    </tr>\n",
       "    <tr>\n",
       "      <th>...</th>\n",
       "      <td>...</td>\n",
       "      <td>...</td>\n",
       "      <td>...</td>\n",
       "      <td>...</td>\n",
       "      <td>...</td>\n",
       "    </tr>\n",
       "    <tr>\n",
       "      <th>1926</th>\n",
       "      <td>EUW1_5162267977</td>\n",
       "      <td>Blue</td>\n",
       "      <td>-C2u2z2GvgyjMrwuVLWcrkVN3joW392KZSMWtLRCHAO5v_...</td>\n",
       "      <td>popcgae</td>\n",
       "      <td>4749</td>\n",
       "    </tr>\n",
       "    <tr>\n",
       "      <th>1927</th>\n",
       "      <td>EUW1_5162267977</td>\n",
       "      <td>Blue</td>\n",
       "      <td>n9xTZEVS8IP4C0arauuyyHyrI_NvR0bz7D-uQV5rJdY9Nc...</td>\n",
       "      <td>Kanriee</td>\n",
       "      <td>7994</td>\n",
       "    </tr>\n",
       "    <tr>\n",
       "      <th>1928</th>\n",
       "      <td>EUW1_5162267977</td>\n",
       "      <td>Blue</td>\n",
       "      <td>joR0O9lnLuhRuU8z0OfKJxJU9xxOEguG-HCI_Yarrjm-Fp...</td>\n",
       "      <td>SyRuB1</td>\n",
       "      <td>14513</td>\n",
       "    </tr>\n",
       "    <tr>\n",
       "      <th>1929</th>\n",
       "      <td>EUW1_5162267977</td>\n",
       "      <td>Blue</td>\n",
       "      <td>GQIS690djRh5tNELDpJNdxcvyVlwGcqShzRI3krMOeJbjj...</td>\n",
       "      <td>skeith241</td>\n",
       "      <td>6349</td>\n",
       "    </tr>\n",
       "    <tr>\n",
       "      <th>1930</th>\n",
       "      <td>EUW1_5162267977</td>\n",
       "      <td>Blue</td>\n",
       "      <td>Vubz4V8CkDlAqj_s8WnDY4lONYlgUDFpEfKB_FAKPOyXXR...</td>\n",
       "      <td>N4rk0owo</td>\n",
       "      <td>3314</td>\n",
       "    </tr>\n",
       "  </tbody>\n",
       "</table>\n",
       "<p>1931 rows × 5 columns</p>\n",
       "</div>"
      ],
      "text/plain": [
       "             match_id team_id  \\\n",
       "0     EUW1_6161945478    Blue   \n",
       "1     EUW1_6161945478    Blue   \n",
       "2     EUW1_6161945478    Blue   \n",
       "3     EUW1_6161945478    Blue   \n",
       "4     EUW1_6161945478    Blue   \n",
       "...               ...     ...   \n",
       "1926  EUW1_5162267977    Blue   \n",
       "1927  EUW1_5162267977    Blue   \n",
       "1928  EUW1_5162267977    Blue   \n",
       "1929  EUW1_5162267977    Blue   \n",
       "1930  EUW1_5162267977    Blue   \n",
       "\n",
       "                                      participant_puuid    summoner_name  \\\n",
       "0     A2zEx9varFrcDbkKlqdGuD0dr5dCO0pcB4MRqH6N6Qha6J...      poutmasmurf   \n",
       "1     MEVanfuJg9PZqtZbaJPB2JbkU9gbb83q9wDJobu06PXpnf...         FriiZoK7   \n",
       "2     h3C486P2TXijAzf80wqo8wuscyhoo1Qypzd1pvu0JEYb6a...          haus300   \n",
       "3     me53WpNeg3rqK2j0xb30wxMWFQ37MMZdF1RzPvSi38SR1j...  godbutbackwards   \n",
       "4     Jl4DjLQgMwQK-9xga9-ddMeEgsq5NGUFy_Gy9O-SQkHQhW...        davidjimi   \n",
       "...                                                 ...              ...   \n",
       "1926  -C2u2z2GvgyjMrwuVLWcrkVN3joW392KZSMWtLRCHAO5v_...          popcgae   \n",
       "1927  n9xTZEVS8IP4C0arauuyyHyrI_NvR0bz7D-uQV5rJdY9Nc...          Kanriee   \n",
       "1928  joR0O9lnLuhRuU8z0OfKJxJU9xxOEguG-HCI_Yarrjm-Fp...           SyRuB1   \n",
       "1929  GQIS690djRh5tNELDpJNdxcvyVlwGcqShzRI3krMOeJbjj...        skeith241   \n",
       "1930  Vubz4V8CkDlAqj_s8WnDY4lONYlgUDFpEfKB_FAKPOyXXR...         N4rk0owo   \n",
       "\n",
       "      gold_earned  \n",
       "0            6898  \n",
       "1            9587  \n",
       "2            8852  \n",
       "3            6209  \n",
       "4            5610  \n",
       "...           ...  \n",
       "1926         4749  \n",
       "1927         7994  \n",
       "1928        14513  \n",
       "1929         6349  \n",
       "1930         3314  \n",
       "\n",
       "[1931 rows x 5 columns]"
      ]
     },
     "execution_count": 79,
     "metadata": {},
     "output_type": "execute_result"
    }
   ],
   "source": [
    "df_match_info = pd.DataFrame.from_dict(dict_match_info)\n",
    "df_match_info['team_id'] = ['Blue' if team_id == 100 else 'Red' for team_id in df_match_info['team_id']]\n",
    "df_match_info"
   ]
  },
  {
   "cell_type": "code",
   "execution_count": 80,
   "metadata": {},
   "outputs": [],
   "source": [
    "import sqlite3\n",
    "from sqlalchemy import create_engine\n",
    "engine = create_engine('sqlite:///riotwatcher_api_dt_match.db', echo=False)\n",
    "\n",
    "# df_append = pd.DataFrame(\n",
    "#     [['test', 'test', 'test', 'test', 'test']],\n",
    "#     columns = ['match_id', 'team_id', 'participant_puuid', 'summoner_name', 'gold_earned']\n",
    "# )\n",
    "\n",
    "# df_append.to_sql('tbl_match_info', con=engine, if_exists='append', index=False)\n",
    "\n",
    "for var_match_id in df_match_info['match_id'].unique():\n",
    "    df_tmp = pd.read_sql_query(\"SELECT * from tbl_match_info WHERE match_id = '%s'\" %(var_match_id), con=engine)\n",
    "    \n",
    "    if df_tmp.empty:\n",
    "        df_append = df_match_info.query(\"match_id == @var_match_id\")\n",
    "        df_append.to_sql('tbl_match_info', con=engine, if_exists='append', index=False)\n",
    "    else:\n",
    "        pass\n"
   ]
  },
  {
   "cell_type": "code",
   "execution_count": 95,
   "metadata": {},
   "outputs": [
    {
     "data": {
      "text/plain": [
       "count      112.000000\n",
       "mean      9048.589286\n",
       "std       3601.078609\n",
       "min        550.000000\n",
       "25%       6694.000000\n",
       "50%       8803.500000\n",
       "75%      11406.500000\n",
       "max      18333.000000\n",
       "Name: gold_earned, dtype: float64"
      ]
     },
     "execution_count": 95,
     "metadata": {},
     "output_type": "execute_result"
    }
   ],
   "source": [
    "df = pd.read_sql_query(\"SELECT DISTINCT * from tbl_match_info WHERE summoner_name = 'AdAstraData' AND gold_earned > 0\", con=engine)\n",
    "df['gold_earned'].astype(int).describe()\n",
    "### AdAstraData"
   ]
  },
  {
   "cell_type": "code",
   "execution_count": 94,
   "metadata": {},
   "outputs": [
    {
     "data": {
      "text/plain": [
       "count      100.000000\n",
       "mean     11145.490000\n",
       "std       3752.877472\n",
       "min        807.000000\n",
       "25%       9047.500000\n",
       "50%      11338.000000\n",
       "75%      13439.500000\n",
       "max      19373.000000\n",
       "Name: gold_earned, dtype: float64"
      ]
     },
     "execution_count": 94,
     "metadata": {},
     "output_type": "execute_result"
    }
   ],
   "source": [
    "df = pd.read_sql_query(\"SELECT DISTINCT * from tbl_match_info WHERE summoner_name = 'Storm and Sin' AND gold_earned > 0\", con=engine)\n",
    "df['gold_earned'].astype(int).describe()\n",
    "### Storm and Sin"
   ]
  },
  {
   "cell_type": "code",
   "execution_count": null,
   "metadata": {},
   "outputs": [],
   "source": [
    "### ACTION_ITEMS : \n",
    "# 4. Add new data and test if append respects existing match info"
   ]
  },
  {
   "cell_type": "code",
   "execution_count": 4,
   "metadata": {},
   "outputs": [
    {
     "name": "stdout",
     "output_type": "stream",
     "text": [
      "Execution time: 14.254740476608276 s\n",
      "Number of API calls: 100\n",
      "API calls per second: 7.02\n"
     ]
    }
   ],
   "source": [
    "list_match_item_purchased = []\n",
    "\n",
    "for var_match_id in last_matches_puuid[0:10]:\n",
    "\n",
    "    \"\"\" store participant's puuids \"\"\"\n",
    "    dict_participants_puuids = {}\n",
    "\n",
    "    match_participants = watcher.match.by_id(region=var_region, match_id=var_match_id)\n",
    "    list_match_participants = match_participants['metadata']['participants']\n",
    "    \n",
    "    for idx in range(len(list_match_participants)):\n",
    "        participant_id = idx + 1\n",
    "        dict_participants_puuids[str(participant_id)] = list_match_participants[idx]\n",
    "\n",
    "    \"\"\" fetch match_timeline \"\"\"\n",
    "    match_info = watcher.match.timeline_by_match(region=var_region,match_id=var_match_id)\n",
    "    match_timeline = pd.json_normalize(data=match_info['info']['frames'], record_path='events')\n",
    "\n",
    "    \"\"\" add match_id to match_timeline\"\"\"\n",
    "    match_timeline['match_id'] = var_match_id\n",
    "\n",
    "    \"\"\" convert match_timeline' timestamp to elapsed minutes\"\"\"\n",
    "    match_timeline['timestamp_timedelta'] = pd.to_timedelta(match_timeline['timestamp'], unit='ms')\n",
    "    match_timeline['elapsed_minutes'] = round(match_timeline['timestamp_timedelta']/ pd.Timedelta(minutes=1),3)\n",
    "    \n",
    "    \"\"\" subset for item_purchased \"\"\"\n",
    "    item_purchased = match_timeline.query(\"type == 'ITEM_PURCHASED'\").dropna(axis=1)\n",
    "\n",
    "    \"\"\" retrieve item_name \"\"\"\n",
    "    item_purchased['item_id'] = item_purchased['itemId'].astype(int)\n",
    "    item_purchased['item_name'] = [dict_item_id_item_name[str(item)] for item in item_purchased['item_id']]\n",
    "\n",
    "    \"\"\" retrieve summoner_puuid \"\"\"\n",
    "    item_purchased['participant_id'] = item_purchased['participantId'].astype(int)\n",
    "    item_purchased['summoner_puuid'] = [dict_participants_puuids[str(id)] for id in item_purchased['participant_id']]\n",
    "\n",
    "    \"\"\" subset for @my_puuid \"\"\"\n",
    "    item_purchased = item_purchased.query(\"summoner_puuid == @my_puuid\")\n",
    "\n",
    "    \"\"\" select cols - elapsed_minutes, item_name, summoner_puuid \"\"\"\n",
    "    item_purchased = item_purchased[\n",
    "        [\n",
    "            'match_id', \n",
    "            'elapsed_minutes',\n",
    "            'item_name',\n",
    "            'summoner_puuid'\n",
    "        ]\n",
    "    ]\n",
    "    \n",
    "    \"\"\" create dict with item_purchased per timestamp per participant (summoner) \"\"\"\n",
    "    dict_item_purchased = item_purchased.to_dict(orient='records')\n",
    "    list_match_item_purchased.append(dict_item_purchased)\n",
    "\n",
    "# record end time\n",
    "end_timer = time.time()\n",
    "\n",
    "# number of API calls\n",
    "num_api_calls_per_cycle = 1\n",
    "num_api_cycles = len(last_matches_puuid)\n",
    "num_api_calls = num_api_cycles * num_api_calls_per_cycle\n",
    "\n",
    "print(\"Execution time:\",(end_timer-start_timer), \"s\")\n",
    "print(\"Number of API calls:\",num_api_calls)\n",
    "print(\"API calls per second:\",round(num_api_calls/(end_timer-start_timer),2))"
   ]
  },
  {
   "cell_type": "code",
   "execution_count": 5,
   "metadata": {},
   "outputs": [
    {
     "data": {
      "text/plain": [
       "count    24.000000\n",
       "mean      0.259708\n",
       "std       0.146596\n",
       "min       0.097000\n",
       "25%       0.155500\n",
       "50%       0.209000\n",
       "75%       0.322000\n",
       "max       0.614000\n",
       "Name: elapsed_minutes, dtype: float64"
      ]
     },
     "execution_count": 5,
     "metadata": {},
     "output_type": "execute_result"
    }
   ],
   "source": [
    "\"\"\" obtain avg. elapsed_minutes per item_name (last matches)\"\"\"\n",
    "from itertools import chain\n",
    "\n",
    "df_match_item_purchased = pd.DataFrame(list(chain.from_iterable(list_match_item_purchased)))\n",
    "\n",
    "avg_min_Dorans_Ring = df_match_item_purchased.query('item_name == \"Doran\\'s Ring\"')['elapsed_minutes'].describe()\n",
    "avg_min_Dorans_Ring"
   ]
  },
  {
   "cell_type": "code",
   "execution_count": null,
   "metadata": {},
   "outputs": [],
   "source": [
    "### ACTION_ITEMS : \n",
    "# 1. need to test first for API call before proceeding (hitting the API's rate limits as it is) \n",
    "# 2. need to add order_num to item_name to distinguish between similar item_names bought at different timestamps\n",
    "# 3. .describe() to be applied per item_name_order_num "
   ]
  }
 ],
 "metadata": {
  "kernelspec": {
   "display_name": "Python 3.8.5 64-bit",
   "language": "python",
   "name": "python3"
  },
  "language_info": {
   "codemirror_mode": {
    "name": "ipython",
    "version": 3
   },
   "file_extension": ".py",
   "mimetype": "text/x-python",
   "name": "python",
   "nbconvert_exporter": "python",
   "pygments_lexer": "ipython3",
   "version": "3.8.5"
  },
  "orig_nbformat": 4,
  "vscode": {
   "interpreter": {
    "hash": "49ac6e22b3157e0835130cb4fd272adb8e9bf4cfbfbb5cb2ce1c9c50fe277a7a"
   }
  }
 },
 "nbformat": 4,
 "nbformat_minor": 2
}
