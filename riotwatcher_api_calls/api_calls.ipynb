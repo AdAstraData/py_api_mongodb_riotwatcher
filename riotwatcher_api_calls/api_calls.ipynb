{
 "cells": [
  {
   "cell_type": "code",
   "execution_count": 35,
   "metadata": {},
   "outputs": [],
   "source": [
    "from dotenv import dotenv_values\n",
    "config = dotenv_values(\"../.env\")\n",
    "\n",
    "import pandas as pd\n",
    "import json\n",
    "from datetime import datetime\n",
    "\n",
    "from riotwatcher import LolWatcher, ApiError\n",
    "\n",
    "watcher = LolWatcher(config['riotwatcher_api_key'])"
   ]
  },
  {
   "cell_type": "code",
   "execution_count": 51,
   "metadata": {},
   "outputs": [],
   "source": [
    "response = watcher.match.by_id(region=\"euw1\",match_id=\"EUW1_6158830217\")\n",
    "# response"
   ]
  },
  {
   "cell_type": "code",
   "execution_count": 52,
   "metadata": {},
   "outputs": [],
   "source": [
    "response = watcher.match.timeline_by_match(region=\"euw1\",match_id=\"EUW1_6158830217\")"
   ]
  },
  {
   "cell_type": "code",
   "execution_count": 53,
   "metadata": {},
   "outputs": [
    {
     "data": {
      "text/plain": [
       "Index(['realTimestamp', 'timestamp', 'type', 'itemId', 'participantId',\n",
       "       'levelUpType', 'skillSlot', 'creatorId', 'wardType', 'level', 'bounty',\n",
       "       'killStreakLength', 'killerId', 'shutdownBounty', 'victimDamageDealt',\n",
       "       'victimDamageReceived', 'victimId', 'position.x', 'position.y',\n",
       "       'afterId', 'beforeId', 'goldGain', 'assistingParticipantIds',\n",
       "       'killType', 'laneType', 'teamId', 'killerTeamId', 'monsterSubType',\n",
       "       'monsterType', 'buildingType', 'towerType', 'actualStartTime',\n",
       "       'multiKillLength', 'gameId', 'winningTeam', 'timestamp_min'],\n",
       "      dtype='object')"
      ]
     },
     "execution_count": 53,
     "metadata": {},
     "output_type": "execute_result"
    }
   ],
   "source": [
    "df_events = (\n",
    "    pd.json_normalize(\n",
    "        data=response['info']['frames'],\n",
    "        record_path='events',\n",
    "    )\n",
    ")\n",
    "\n",
    "df_events['timestamp_min'] = pd.to_timedelta(df_events['timestamp'], unit='ms')\n",
    "df_events.columns"
   ]
  },
  {
   "cell_type": "code",
   "execution_count": 56,
   "metadata": {},
   "outputs": [
    {
     "data": {
      "text/plain": [
       "array(['PAUSE_END', 'ITEM_PURCHASED', 'SKILL_LEVEL_UP', 'WARD_PLACED',\n",
       "       'ITEM_DESTROYED', 'LEVEL_UP', 'CHAMPION_KILL', 'ITEM_UNDO',\n",
       "       'CHAMPION_SPECIAL_KILL', 'WARD_KILL', 'TURRET_PLATE_DESTROYED',\n",
       "       'ITEM_SOLD', 'ELITE_MONSTER_KILL', 'BUILDING_KILL',\n",
       "       'OBJECTIVE_BOUNTY_PRESTART', 'GAME_END'], dtype=object)"
      ]
     },
     "execution_count": 56,
     "metadata": {},
     "output_type": "execute_result"
    }
   ],
   "source": [
    "df_events.type.unique()"
   ]
  },
  {
   "cell_type": "code",
   "execution_count": 64,
   "metadata": {},
   "outputs": [],
   "source": [
    "data_dragon_versions = watcher.data_dragon.versions_for_region(region=\"euw\")\n",
    "items_data_dragon_version = data_dragon_versions['n']['item']\n",
    "items_data_dragon_version\n",
    "\n",
    "current_item_list = watcher.data_dragon.items(items_data_dragon_version)"
   ]
  },
  {
   "cell_type": "code",
   "execution_count": 122,
   "metadata": {},
   "outputs": [
    {
     "data": {
      "text/html": [
       "<div>\n",
       "<style scoped>\n",
       "    .dataframe tbody tr th:only-of-type {\n",
       "        vertical-align: middle;\n",
       "    }\n",
       "\n",
       "    .dataframe tbody tr th {\n",
       "        vertical-align: top;\n",
       "    }\n",
       "\n",
       "    .dataframe thead th {\n",
       "        text-align: right;\n",
       "    }\n",
       "</style>\n",
       "<table border=\"1\" class=\"dataframe\">\n",
       "  <thead>\n",
       "    <tr style=\"text-align: right;\">\n",
       "      <th></th>\n",
       "      <th>item_id</th>\n",
       "      <th>item_name</th>\n",
       "    </tr>\n",
       "  </thead>\n",
       "  <tbody>\n",
       "    <tr>\n",
       "      <th>0</th>\n",
       "      <td>1001</td>\n",
       "      <td>Boots</td>\n",
       "    </tr>\n",
       "    <tr>\n",
       "      <th>1</th>\n",
       "      <td>1004</td>\n",
       "      <td>Faerie Charm</td>\n",
       "    </tr>\n",
       "    <tr>\n",
       "      <th>2</th>\n",
       "      <td>1006</td>\n",
       "      <td>Rejuvenation Bead</td>\n",
       "    </tr>\n",
       "    <tr>\n",
       "      <th>3</th>\n",
       "      <td>1011</td>\n",
       "      <td>Giant's Belt</td>\n",
       "    </tr>\n",
       "    <tr>\n",
       "      <th>4</th>\n",
       "      <td>1018</td>\n",
       "      <td>Cloak of Agility</td>\n",
       "    </tr>\n",
       "    <tr>\n",
       "      <th>...</th>\n",
       "      <td>...</td>\n",
       "      <td>...</td>\n",
       "    </tr>\n",
       "    <tr>\n",
       "      <th>261</th>\n",
       "      <td>7027</td>\n",
       "      <td>Primordial Dawn</td>\n",
       "    </tr>\n",
       "    <tr>\n",
       "      <th>262</th>\n",
       "      <td>7028</td>\n",
       "      <td>Infinite Convergence</td>\n",
       "    </tr>\n",
       "    <tr>\n",
       "      <th>263</th>\n",
       "      <td>7050</td>\n",
       "      <td>Gangplank Placeholder</td>\n",
       "    </tr>\n",
       "    <tr>\n",
       "      <th>264</th>\n",
       "      <td>8001</td>\n",
       "      <td>Anathema's Chains</td>\n",
       "    </tr>\n",
       "    <tr>\n",
       "      <th>265</th>\n",
       "      <td>8020</td>\n",
       "      <td>Abyssal Mask</td>\n",
       "    </tr>\n",
       "  </tbody>\n",
       "</table>\n",
       "<p>266 rows × 2 columns</p>\n",
       "</div>"
      ],
      "text/plain": [
       "    item_id              item_name\n",
       "0      1001                  Boots\n",
       "1      1004           Faerie Charm\n",
       "2      1006      Rejuvenation Bead\n",
       "3      1011           Giant's Belt\n",
       "4      1018       Cloak of Agility\n",
       "..      ...                    ...\n",
       "261    7027        Primordial Dawn\n",
       "262    7028   Infinite Convergence\n",
       "263    7050  Gangplank Placeholder\n",
       "264    8001      Anathema's Chains\n",
       "265    8020           Abyssal Mask\n",
       "\n",
       "[266 rows x 2 columns]"
      ]
     },
     "execution_count": 122,
     "metadata": {},
     "output_type": "execute_result"
    }
   ],
   "source": [
    "dict_current_item_list = {\n",
    "    \"item_id\": [],\n",
    "    \"item_name\": [],\n",
    "}\n",
    "\n",
    "for item_id in current_item_list['data'].keys():\n",
    "    tmp_df_item = pd.json_normalize(data=current_item_list['data'][item_id])\n",
    "\n",
    "    dict_current_item_list[\"item_id\"].append(item_id)\n",
    "    dict_current_item_list[\"item_name\"].append(tmp_df_item['name'].to_string(index=False))\n",
    "\n",
    "df_current_item_list = pd.DataFrame.from_dict(data=dict_current_item_list, orient=\"columns\")\n",
    "df_current_item_list"
   ]
  },
  {
   "cell_type": "code",
   "execution_count": 60,
   "metadata": {},
   "outputs": [
    {
     "data": {
      "text/html": [
       "<div>\n",
       "<style scoped>\n",
       "    .dataframe tbody tr th:only-of-type {\n",
       "        vertical-align: middle;\n",
       "    }\n",
       "\n",
       "    .dataframe tbody tr th {\n",
       "        vertical-align: top;\n",
       "    }\n",
       "\n",
       "    .dataframe thead th {\n",
       "        text-align: right;\n",
       "    }\n",
       "</style>\n",
       "<table border=\"1\" class=\"dataframe\">\n",
       "  <thead>\n",
       "    <tr style=\"text-align: right;\">\n",
       "      <th></th>\n",
       "      <th>timestamp</th>\n",
       "      <th>type</th>\n",
       "      <th>itemId</th>\n",
       "      <th>participantId</th>\n",
       "      <th>timestamp_min</th>\n",
       "    </tr>\n",
       "  </thead>\n",
       "  <tbody>\n",
       "    <tr>\n",
       "      <th>1</th>\n",
       "      <td>2980</td>\n",
       "      <td>ITEM_PURCHASED</td>\n",
       "      <td>1054.0</td>\n",
       "      <td>1.0</td>\n",
       "      <td>0 days 00:00:02.980000</td>\n",
       "    </tr>\n",
       "    <tr>\n",
       "      <th>2</th>\n",
       "      <td>2980</td>\n",
       "      <td>ITEM_PURCHASED</td>\n",
       "      <td>2003.0</td>\n",
       "      <td>1.0</td>\n",
       "      <td>0 days 00:00:02.980000</td>\n",
       "    </tr>\n",
       "    <tr>\n",
       "      <th>3</th>\n",
       "      <td>3739</td>\n",
       "      <td>ITEM_PURCHASED</td>\n",
       "      <td>3340.0</td>\n",
       "      <td>1.0</td>\n",
       "      <td>0 days 00:00:03.739000</td>\n",
       "    </tr>\n",
       "    <tr>\n",
       "      <th>4</th>\n",
       "      <td>4169</td>\n",
       "      <td>ITEM_PURCHASED</td>\n",
       "      <td>1056.0</td>\n",
       "      <td>8.0</td>\n",
       "      <td>0 days 00:00:04.169000</td>\n",
       "    </tr>\n",
       "    <tr>\n",
       "      <th>5</th>\n",
       "      <td>4169</td>\n",
       "      <td>ITEM_PURCHASED</td>\n",
       "      <td>2003.0</td>\n",
       "      <td>8.0</td>\n",
       "      <td>0 days 00:00:04.169000</td>\n",
       "    </tr>\n",
       "    <tr>\n",
       "      <th>...</th>\n",
       "      <td>...</td>\n",
       "      <td>...</td>\n",
       "      <td>...</td>\n",
       "      <td>...</td>\n",
       "      <td>...</td>\n",
       "    </tr>\n",
       "    <tr>\n",
       "      <th>548</th>\n",
       "      <td>1099209</td>\n",
       "      <td>ITEM_PURCHASED</td>\n",
       "      <td>1037.0</td>\n",
       "      <td>2.0</td>\n",
       "      <td>0 days 00:18:19.209000</td>\n",
       "    </tr>\n",
       "    <tr>\n",
       "      <th>559</th>\n",
       "      <td>1130752</td>\n",
       "      <td>ITEM_PURCHASED</td>\n",
       "      <td>3191.0</td>\n",
       "      <td>8.0</td>\n",
       "      <td>0 days 00:18:50.752000</td>\n",
       "    </tr>\n",
       "    <tr>\n",
       "      <th>561</th>\n",
       "      <td>1132205</td>\n",
       "      <td>ITEM_PURCHASED</td>\n",
       "      <td>2420.0</td>\n",
       "      <td>8.0</td>\n",
       "      <td>0 days 00:18:52.205000</td>\n",
       "    </tr>\n",
       "    <tr>\n",
       "      <th>562</th>\n",
       "      <td>1135244</td>\n",
       "      <td>ITEM_PURCHASED</td>\n",
       "      <td>1018.0</td>\n",
       "      <td>3.0</td>\n",
       "      <td>0 days 00:18:55.244000</td>\n",
       "    </tr>\n",
       "    <tr>\n",
       "      <th>563</th>\n",
       "      <td>1135739</td>\n",
       "      <td>ITEM_PURCHASED</td>\n",
       "      <td>3145.0</td>\n",
       "      <td>7.0</td>\n",
       "      <td>0 days 00:18:55.739000</td>\n",
       "    </tr>\n",
       "  </tbody>\n",
       "</table>\n",
       "<p>122 rows × 5 columns</p>\n",
       "</div>"
      ],
      "text/plain": [
       "     timestamp            type  itemId  participantId          timestamp_min\n",
       "1         2980  ITEM_PURCHASED  1054.0            1.0 0 days 00:00:02.980000\n",
       "2         2980  ITEM_PURCHASED  2003.0            1.0 0 days 00:00:02.980000\n",
       "3         3739  ITEM_PURCHASED  3340.0            1.0 0 days 00:00:03.739000\n",
       "4         4169  ITEM_PURCHASED  1056.0            8.0 0 days 00:00:04.169000\n",
       "5         4169  ITEM_PURCHASED  2003.0            8.0 0 days 00:00:04.169000\n",
       "..         ...             ...     ...            ...                    ...\n",
       "548    1099209  ITEM_PURCHASED  1037.0            2.0 0 days 00:18:19.209000\n",
       "559    1130752  ITEM_PURCHASED  3191.0            8.0 0 days 00:18:50.752000\n",
       "561    1132205  ITEM_PURCHASED  2420.0            8.0 0 days 00:18:52.205000\n",
       "562    1135244  ITEM_PURCHASED  1018.0            3.0 0 days 00:18:55.244000\n",
       "563    1135739  ITEM_PURCHASED  3145.0            7.0 0 days 00:18:55.739000\n",
       "\n",
       "[122 rows x 5 columns]"
      ]
     },
     "execution_count": 60,
     "metadata": {},
     "output_type": "execute_result"
    }
   ],
   "source": [
    "df_item_purchased = df_events.query(\"type == 'ITEM_PURCHASED'\").dropna(axis=1)\n",
    "df_item_purchased['item_id'] = df_item_purchased.itemId\n",
    "df_item_purchased['item_name'] = []\n",
    "\n",
    "\n",
    "\n"
   ]
  }
 ],
 "metadata": {
  "kernelspec": {
   "display_name": "Python 3.8.5 64-bit",
   "language": "python",
   "name": "python3"
  },
  "language_info": {
   "codemirror_mode": {
    "name": "ipython",
    "version": 3
   },
   "file_extension": ".py",
   "mimetype": "text/x-python",
   "name": "python",
   "nbconvert_exporter": "python",
   "pygments_lexer": "ipython3",
   "version": "3.8.5"
  },
  "orig_nbformat": 4,
  "vscode": {
   "interpreter": {
    "hash": "49ac6e22b3157e0835130cb4fd272adb8e9bf4cfbfbb5cb2ce1c9c50fe277a7a"
   }
  }
 },
 "nbformat": 4,
 "nbformat_minor": 2
}
